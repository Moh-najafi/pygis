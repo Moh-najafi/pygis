{
 "cells": [
  {
   "cell_type": "markdown",
   "metadata": {},
   "source": [
    "# A tutorial for the pygis Python package\n",
    "\n",
    "This notebook demonstrates the usage of the **pygis** Python package for geospatial analysis.\n",
    "\n",
    "* GitHub repo: https://github.com/giswqs/pygis\n",
    "* Documentation: https://py-gis.readthedocs.io.\n",
    "* PyPI: https://pypi.org/project/pygis/\n",
    "* Binder: https://gishub.org/pygis-cloud\n",
    "* Free software: [MIT license](https://opensource.org/licenses/MIT)\n",
    "\n",
    "This tutorial can be accessed in three ways:\n",
    "\n",
    "* HTML version: https://gishub.org/pygis-html\n",
    "* Viewable Notebook: https://gishub.org/pygis-notebook\n",
    "* Interactive Notebook: https://gishub.org/pygis-cloud\n",
    "\n",
    "**Launch this tutorial as an interactive Jupyter Notebook on the cloud - [MyBinder.org](https://gishub.org/pygis-cloud).**"
   ]
  },
  {
   "cell_type": "markdown",
   "metadata": {},
   "source": [
    "## Table of Content\n",
    "\n",
    "* [Installation](#Installation)\n"
   ]
  },
  {
   "cell_type": "markdown",
   "metadata": {},
   "source": [
    "## Installation\n",
    "\n",
    "\n",
    "The **pygis** Python package supports a variety of platforms, including Microsoft Windows, macOS, and Linux operating systems. Note that you will need to have **Python 3.x** installed. Python 2.x is not supported. The **pygis** Python package can be installed using the following command:\n",
    "\n",
    "`pip install pygis`\n",
    "\n",
    "If you have installed **pygis** Python package before and want to upgrade to the latest version, you can use the following command:\n",
    "\n",
    "`pip install pygis -U`\n",
    "\n",
    "If you encounter any installation issues, please [Report Bugs](https://github.com/giswqs/lidar/issues) on the **pygis** GitHub page."
   ]
  },
  {
   "cell_type": "markdown",
   "metadata": {},
   "source": [
    "## Using pygis"
   ]
  },
  {
   "cell_type": "code",
   "execution_count": 3,
   "metadata": {},
   "outputs": [],
   "source": [
    "import pygis"
   ]
  },
  {
   "cell_type": "markdown",
   "metadata": {},
   "source": [
    "### Downloading files"
   ]
  },
  {
   "cell_type": "code",
   "execution_count": 1,
   "metadata": {},
   "outputs": [],
   "source": [
    "url = \"https://github.com/giswqs/lidar/raw/master/examples/lidar-dem.zip\""
   ]
  },
  {
   "cell_type": "code",
   "execution_count": 5,
   "metadata": {},
   "outputs": [
    {
     "name": "stdout",
     "output_type": "stream",
     "text": [
      "Downloading lidar-dem.zip ...\n",
      "Downloading done.\n",
      "Unzipping lidar-dem.zip ...\n",
      "Unzipping done.\n",
      "Data directory: ./lidar-dem\n"
     ]
    }
   ],
   "source": [
    "pygis.download_from_url(url, file_name='data.zip', unzip=False)"
   ]
  },
  {
   "cell_type": "code",
   "execution_count": null,
   "metadata": {},
   "outputs": [],
   "source": []
  },
  {
   "cell_type": "code",
   "execution_count": 2,
   "metadata": {},
   "outputs": [],
   "source": [
    "gfile_url = 'https://drive.google.com/file/d/1c6v-ep5-klb2J32Nuu1rSyqAc8kEtmdh'"
   ]
  },
  {
   "cell_type": "code",
   "execution_count": 7,
   "metadata": {},
   "outputs": [
    {
     "name": "stdout",
     "output_type": "stream",
     "text": [
      "Google Drive file id: 1c6v-ep5-klb2J32Nuu1rSyqAc8kEtmdh\n",
      "Downloading 1c6v-ep5-klb2J32Nuu1rSyqAc8kEtmdh into ./dem.zip... Done.\n",
      "Unzipping...Done.\n"
     ]
    }
   ],
   "source": [
    "pygis.download_from_gdrive(gfile_url, 'dem.zip')"
   ]
  },
  {
   "cell_type": "code",
   "execution_count": null,
   "metadata": {},
   "outputs": [],
   "source": []
  }
 ],
 "metadata": {
  "kernelspec": {
   "display_name": "py36",
   "language": "python",
   "name": "py36"
  },
  "language_info": {
   "codemirror_mode": {
    "name": "ipython",
    "version": 3
   },
   "file_extension": ".py",
   "mimetype": "text/x-python",
   "name": "python",
   "nbconvert_exporter": "python",
   "pygments_lexer": "ipython3",
   "version": "3.6.6"
  }
 },
 "nbformat": 4,
 "nbformat_minor": 2
}
